{
 "cells": [
  {
   "cell_type": "code",
   "execution_count": 43,
   "metadata": {},
   "outputs": [],
   "source": [
    "import dwdatareader as dw\n",
    "import os\n",
    "import pathlib\n",
    "# from ctypes import *\n",
    "import ctypes as dwTypes\n",
    "import _ctypes"
   ]
  },
  {
   "cell_type": "code",
   "execution_count": 2,
   "metadata": {},
   "outputs": [],
   "source": [
    "example_file = pathlib.Path.absolute(pathlib.Path(r\"../data/Example_Drive01.d7d\"))\n",
    "if  not os.path.exists(example_file):\n",
    "    raise ValueError(\" File does not exist: \" + str(example_file))\n"
   ]
  },
  {
   "cell_type": "code",
   "execution_count": 3,
   "metadata": {},
   "outputs": [],
   "source": [
    "f = dw.open(str(example_file))"
   ]
  },
  {
   "cell_type": "markdown",
   "metadata": {},
   "source": [
    "## Measurement information from file"
   ]
  },
  {
   "cell_type": "code",
   "execution_count": 21,
   "metadata": {},
   "outputs": [
    {
     "name": "stdout",
     "output_type": "stream",
     "text": [
      "Start storing time:  2003-10-09 21:27:46.812004+00:00\n",
      "Duration:            95.8 sec\n",
      "Dataset sample rate: 100.0 Hz\n"
     ]
    }
   ],
   "source": [
    "# print (f.info)\n",
    "print ('Start storing time:  ' + str(f.info.start_store_time))\n",
    "print('Duration:            ' + str(f.info.duration) + ' sec')\n",
    "print ('Dataset sample rate: ' + str(f.info.sample_rate) + ' Hz')"
   ]
  },
  {
   "cell_type": "code",
   "execution_count": 5,
   "metadata": {},
   "outputs": [
    {
     "name": "stdout",
     "output_type": "stream",
     "text": [
      "Number of Channels: 20\n"
     ]
    }
   ],
   "source": [
    "number_of_channels=len(f.channels)\n",
    "print (\"Number of Channels: \" + str(number_of_channels))"
   ]
  },
  {
   "cell_type": "code",
   "execution_count": 42,
   "metadata": {},
   "outputs": [
    {
     "name": "stdout",
     "output_type": "stream",
     "text": [
      "-----------------------------\n",
      "Channel Name        : GPSvel\n",
      "   ChannelLongName  : GPSvel\n",
      "   ChannelUnit      : kph\n",
      "   Description      : v\n",
      "   ChannelIndex     : AI;4\n",
      "   NumberOfSamples  : 9580\n",
      "   ChannelType      : 0\n"
     ]
    },
    {
     "ename": "AttributeError",
     "evalue": "module 'ctypes' has no attribute 'DWChannelType'",
     "output_type": "error",
     "traceback": [
      "\u001b[0;31m---------------------------------------------------------------------------\u001b[0m",
      "\u001b[0;31mAttributeError\u001b[0m                            Traceback (most recent call last)",
      "Cell \u001b[0;32mIn[42], line 11\u001b[0m\n\u001b[1;32m      9\u001b[0m \u001b[38;5;28mprint\u001b[39m(\u001b[38;5;124m\"\u001b[39m\u001b[38;5;124m   NumberOfSamples  : \u001b[39m\u001b[38;5;124m\"\u001b[39m \u001b[38;5;241m+\u001b[39m \u001b[38;5;28mstr\u001b[39m(ch\u001b[38;5;241m.\u001b[39mnumber_of_samples))\n\u001b[1;32m     10\u001b[0m \u001b[38;5;28mprint\u001b[39m(\u001b[38;5;124m\"\u001b[39m\u001b[38;5;124m   ChannelType      : \u001b[39m\u001b[38;5;124m\"\u001b[39m \u001b[38;5;241m+\u001b[39m \u001b[38;5;28mstr\u001b[39m(ch\u001b[38;5;241m.\u001b[39mchannel_type))\n\u001b[0;32m---> 11\u001b[0m \u001b[38;5;28;01mif\u001b[39;00m ch\u001b[38;5;241m.\u001b[39mchannel_type \u001b[38;5;241m==\u001b[39m \u001b[43mdwTypes\u001b[49m\u001b[38;5;241;43m.\u001b[39;49m\u001b[43mDWChannelType\u001b[49m\u001b[38;5;241m.\u001b[39mDW_CH_TYPE_SYNC:\n\u001b[1;32m     12\u001b[0m     \u001b[38;5;28mprint\u001b[39m(\u001b[38;5;124m\"\u001b[39m\u001b[38;5;124m                      Channel type: sync\u001b[39m\u001b[38;5;124m\"\u001b[39m)\n\u001b[1;32m     13\u001b[0m \u001b[38;5;28;01melif\u001b[39;00m ch\u001b[38;5;241m.\u001b[39mchannel_type \u001b[38;5;241m==\u001b[39m dwTypes\u001b[38;5;241m.\u001b[39mDWChannelType\u001b[38;5;241m.\u001b[39mDW_CH_TYPE_ASYNC\u001b[38;5;241m.\u001b[39mvalue:\n",
      "\u001b[0;31mAttributeError\u001b[0m: module 'ctypes' has no attribute 'DWChannelType'"
     ]
    }
   ],
   "source": [
    "ch: dw.DWChannel\n",
    "for ch in f.channels:\n",
    "    print(\"-----------------------------\")\n",
    "    print(\"Channel Name        : \" + ch.name)\n",
    "    print(\"   ChannelLongName  : \" + str(ch.long_name))\n",
    "    print(\"   ChannelUnit      : \" + str(ch.unit))\n",
    "    print(\"   Description      : \" + str(ch.description))\n",
    "    print(\"   ChannelIndex     : \" + str(ch.channel_index))\n",
    "    print(\"   NumberOfSamples  : \" + str(ch.number_of_samples))\n",
    "    print(\"   ChannelType      : \" + str(ch.channel_type))\n",
    "    if ch.channel_type == dwTypes.DWChannelType.DW_CH_TYPE_SYNC:\n",
    "        print(\"                      Channel type: sync\")\n",
    "    elif ch.channel_type == dwTypes.DWChannelType.DW_CH_TYPE_ASYNC.value:\n",
    "        print(\"                      Channel type: async\")\n",
    "    elif ch.channel_type == dwTypes.DWChannelType.DW_CH_TYPE_SV.value:\n",
    "        print(\"                      Channel type: single value\")\n",
    "    else:\n",
    "        print(\"                      Channel type: unknown\")\n",
    "\n",
    "    # print(\"     Factor         : \" + str(ch.channel_scale))\n",
    "    # print(\"     Offset         : \" + str(ch.channel_offset))\n",
    "    print(\"   ArrayInfo        : \" + str(ch.arrayInfo))\n",
    "    print(\"   ChannelType      : \" + str(ch.channel_type))\n",
    "    print(\"   Fields           : \" + str(ch._fields_))\n",
    "    print(\"   ChannelDataFrame : \" + str(ch.dataframe))\n",
    "\n",
    "    # get channel factor/offset\n",
    "    chScale = 1\n",
    "    chOffset = 0\n",
    "    print(dw.DWChannelProps[ch.channel_index].DW_CH_OFFSET)\n",
    "    print(dw.DWChannelProps[ch.channel_index].DW_CH_SCALE)"
   ]
  },
  {
   "cell_type": "code",
   "execution_count": 7,
   "metadata": {},
   "outputs": [
    {
     "name": "stdout",
     "output_type": "stream",
     "text": [
      "GPSvel (kph) v\n",
      "float64\n",
      "GPSvel\n",
      "9580\n",
      "(9580,)\n",
      "89.2578125\n"
     ]
    }
   ],
   "source": [
    "print (f['GPSvel'])  \n",
    "ch1 = f['GPSvel'].series()\n",
    "print(ch1.dtype)\n",
    "print(ch1.name)\n",
    "print(len(ch1))\n",
    "print(ch1.shape)\n",
    "print(ch1[0]) # der Wert"
   ]
  },
  {
   "cell_type": "code",
   "execution_count": 8,
   "metadata": {},
   "outputs": [
    {
     "name": "stdout",
     "output_type": "stream",
     "text": [
      "          GPSvel\n",
      "0.00   89.257812\n",
      "0.01   89.263916\n",
      "0.02   89.270020\n",
      "0.03   89.282227\n",
      "0.04   89.263916\n",
      "...          ...\n",
      "95.75  -0.079346\n",
      "95.76  -0.079346\n",
      "95.77  -0.073242\n",
      "95.78  -0.085449\n",
      "95.79  -0.091553\n",
      "\n",
      "[9580 rows x 1 columns]\n"
     ]
    }
   ],
   "source": [
    "dataframe1=f['GPSvel'].dataframe()\n",
    "print(dataframe1)"
   ]
  },
  {
   "cell_type": "code",
   "execution_count": 9,
   "metadata": {},
   "outputs": [
    {
     "name": "stdout",
     "output_type": "stream",
     "text": [
      "Index(['GPSvel'], dtype='object')\n"
     ]
    }
   ],
   "source": [
    "\n",
    "print(dataframe1.columns)\n"
   ]
  },
  {
   "cell_type": "code",
   "execution_count": 10,
   "metadata": {},
   "outputs": [
    {
     "name": "stdout",
     "output_type": "stream",
     "text": [
      "            0.00       0.01      0.02       0.03       0.04       0.05   \\\n",
      "GPSvel  89.257812  89.263916  89.27002  89.282227  89.263916  89.276123   \n",
      "\n",
      "            0.06       0.07      0.08       0.09   ...     95.70     95.71  \\\n",
      "GPSvel  89.263916  89.257812  89.27002  89.251709  ... -0.067139 -0.091553   \n",
      "\n",
      "           95.72     95.73     95.74     95.75     95.76     95.77     95.78  \\\n",
      "GPSvel -0.097656 -0.085449 -0.085449 -0.079346 -0.079346 -0.073242 -0.085449   \n",
      "\n",
      "           95.79  \n",
      "GPSvel -0.091553  \n",
      "\n",
      "[1 rows x 9580 columns]\n"
     ]
    }
   ],
   "source": [
    "print (dataframe1.T)\n"
   ]
  },
  {
   "cell_type": "code",
   "execution_count": 11,
   "metadata": {},
   "outputs": [
    {
     "name": "stdout",
     "output_type": "stream",
     "text": [
      "Index([  0.0,  0.01,  0.02,  0.03,  0.04,  0.05,  0.06,  0.07,  0.08,  0.09,\n",
      "       ...\n",
      "        95.7, 95.71, 95.72, 95.73, 95.74, 95.75, 95.76, 95.77, 95.78, 95.79],\n",
      "      dtype='float64', length=9580)\n"
     ]
    }
   ],
   "source": [
    "print(dataframe1.index) # das ist der Indexkanal, hier Zeit"
   ]
  },
  {
   "cell_type": "code",
   "execution_count": 12,
   "metadata": {},
   "outputs": [
    {
     "name": "stdout",
     "output_type": "stream",
     "text": [
      "float64\n"
     ]
    }
   ],
   "source": [
    "print(dataframe1.index.dtype)"
   ]
  },
  {
   "cell_type": "code",
   "execution_count": 13,
   "metadata": {},
   "outputs": [
    {
     "name": "stdout",
     "output_type": "stream",
     "text": [
      "9580\n"
     ]
    }
   ],
   "source": [
    "print(len(dataframe1.index))"
   ]
  },
  {
   "cell_type": "code",
   "execution_count": 14,
   "metadata": {},
   "outputs": [
    {
     "name": "stdout",
     "output_type": "stream",
     "text": [
      "[[ 8.92578125e+01]\n",
      " [ 8.92639160e+01]\n",
      " [ 8.92700195e+01]\n",
      " ...\n",
      " [-7.32421875e-02]\n",
      " [-8.54492188e-02]\n",
      " [-9.15527344e-02]]\n"
     ]
    }
   ],
   "source": [
    "print(dataframe1.values)"
   ]
  },
  {
   "cell_type": "code",
   "execution_count": 15,
   "metadata": {},
   "outputs": [
    {
     "name": "stdout",
     "output_type": "stream",
     "text": [
      "[89.2578125]\n"
     ]
    }
   ],
   "source": [
    "print(dataframe1.values[0])"
   ]
  },
  {
   "cell_type": "code",
   "execution_count": 16,
   "metadata": {},
   "outputs": [
    {
     "name": "stdout",
     "output_type": "stream",
     "text": [
      "float64\n"
     ]
    }
   ],
   "source": [
    "print(dataframe1.values.dtype)"
   ]
  },
  {
   "cell_type": "code",
   "execution_count": 17,
   "metadata": {},
   "outputs": [
    {
     "ename": "DWError",
     "evalue": "CAN not supported",
     "output_type": "error",
     "traceback": [
      "\u001b[0;31m---------------------------------------------------------------------------\u001b[0m",
      "\u001b[0;31mDWError\u001b[0m                                   Traceback (most recent call last)",
      "Cell \u001b[0;32mIn[17], line 1\u001b[0m\n\u001b[0;32m----> 1\u001b[0m \u001b[43mf\u001b[49m\u001b[38;5;241;43m.\u001b[39;49m\u001b[43mdataframe\u001b[49m\u001b[43m(\u001b[49m\u001b[43m)\u001b[49m \u001b[38;5;66;03m#Complete matrix of all channels\u001b[39;00m\n",
      "File \u001b[0;32m~/.local/lib/python3.12/site-packages/dwdatareader/__init__.py:469\u001b[0m, in \u001b[0;36mDWFile.dataframe\u001b[0;34m(self, channels)\u001b[0m\n\u001b[1;32m    466\u001b[0m \u001b[38;5;28;01mif\u001b[39;00m \u001b[38;5;129;01mnot\u001b[39;00m channels:\n\u001b[1;32m    467\u001b[0m     \u001b[38;5;66;03m# Return dataframe of ALL channels by default\u001b[39;00m\n\u001b[1;32m    468\u001b[0m     channels \u001b[38;5;241m=\u001b[39m \u001b[38;5;28mself\u001b[39m\u001b[38;5;241m.\u001b[39mkeys()\n\u001b[0;32m--> 469\u001b[0m \u001b[38;5;28;01mreturn\u001b[39;00m pandas\u001b[38;5;241m.\u001b[39mDataFrame({k: \u001b[38;5;28;43mself\u001b[39;49m\u001b[43m[\u001b[49m\u001b[43mk\u001b[49m\u001b[43m]\u001b[49m\u001b[38;5;241;43m.\u001b[39;49m\u001b[43mseries\u001b[49m\u001b[43m(\u001b[49m\u001b[43m)\u001b[49m \u001b[38;5;28;01mfor\u001b[39;00m k \u001b[38;5;129;01min\u001b[39;00m channels})\n",
      "File \u001b[0;32m~/.local/lib/python3.12/site-packages/dwdatareader/__init__.py:282\u001b[0m, in \u001b[0;36mDWChannel.series\u001b[0;34m(self)\u001b[0m\n\u001b[1;32m    280\u001b[0m \u001b[38;5;28;01mdef\u001b[39;00m\u001b[38;5;250m \u001b[39m\u001b[38;5;21mseries\u001b[39m(\u001b[38;5;28mself\u001b[39m):\n\u001b[1;32m    281\u001b[0m \u001b[38;5;250m    \u001b[39m\u001b[38;5;124;03m\"\"\"Load and return timeseries of results for channel\"\"\"\u001b[39;00m\n\u001b[0;32m--> 282\u001b[0m     data \u001b[38;5;241m=\u001b[39m \u001b[38;5;28;43mself\u001b[39;49m\u001b[38;5;241;43m.\u001b[39;49m\u001b[43mscaled\u001b[49m\u001b[43m(\u001b[49m\u001b[43m)\u001b[49m\n\u001b[1;32m    283\u001b[0m     \u001b[38;5;28;01mif\u001b[39;00m data\u001b[38;5;241m.\u001b[39mempty:\n\u001b[1;32m    284\u001b[0m         \u001b[38;5;66;03m# Use average reduced data if scaled is not available\u001b[39;00m\n\u001b[1;32m    285\u001b[0m         data \u001b[38;5;241m=\u001b[39m \u001b[38;5;28mself\u001b[39m\u001b[38;5;241m.\u001b[39mreduced()[\u001b[38;5;124m'\u001b[39m\u001b[38;5;124mave\u001b[39m\u001b[38;5;124m'\u001b[39m]\n",
      "File \u001b[0;32m~/.local/lib/python3.12/site-packages/dwdatareader/__init__.py:205\u001b[0m, in \u001b[0;36mDWChannel.scaled\u001b[0;34m(self, arrayIndex)\u001b[0m\n\u001b[1;32m    202\u001b[0m stat \u001b[38;5;241m=\u001b[39m DLL\u001b[38;5;241m.\u001b[39mDWGetScaledSamples(\u001b[38;5;28mself\u001b[39m\u001b[38;5;241m.\u001b[39mindex, ctypes\u001b[38;5;241m.\u001b[39mc_int64(\u001b[38;5;241m0\u001b[39m), ctypes\u001b[38;5;241m.\u001b[39mc_int64(count),\n\u001b[1;32m    203\u001b[0m         data\u001b[38;5;241m.\u001b[39mctypes, time\u001b[38;5;241m.\u001b[39mctypes)\n\u001b[1;32m    204\u001b[0m \u001b[38;5;28;01mif\u001b[39;00m stat:\n\u001b[0;32m--> 205\u001b[0m     \u001b[38;5;28;01mraise\u001b[39;00m DWError(stat)\n\u001b[1;32m    207\u001b[0m time, ix \u001b[38;5;241m=\u001b[39m numpy\u001b[38;5;241m.\u001b[39munique(time, return_index\u001b[38;5;241m=\u001b[39m\u001b[38;5;28;01mTrue\u001b[39;00m) \u001b[38;5;66;03m# use unique times\u001b[39;00m\n\u001b[1;32m    208\u001b[0m \u001b[38;5;28;01mreturn\u001b[39;00m pandas\u001b[38;5;241m.\u001b[39mSeries(\n\u001b[1;32m    209\u001b[0m         data \u001b[38;5;241m=\u001b[39m data\u001b[38;5;241m.\u001b[39mreshape(count, \u001b[38;5;28mself\u001b[39m\u001b[38;5;241m.\u001b[39marray_size)[ix, arrayIndex],\n\u001b[1;32m    210\u001b[0m         index \u001b[38;5;241m=\u001b[39m time,\n\u001b[1;32m    211\u001b[0m         name \u001b[38;5;241m=\u001b[39m \u001b[38;5;28mself\u001b[39m\u001b[38;5;241m.\u001b[39mname)\n",
      "\u001b[0;31mDWError\u001b[0m: CAN not supported"
     ]
    }
   ],
   "source": [
    "f.dataframe() #Complete matrix of all channels"
   ]
  },
  {
   "cell_type": "code",
   "execution_count": null,
   "metadata": {},
   "outputs": [],
   "source": [
    "f.close"
   ]
  }
 ],
 "metadata": {
  "kernelspec": {
   "display_name": "Python 3",
   "language": "python",
   "name": "python3"
  },
  "language_info": {
   "codemirror_mode": {
    "name": "ipython",
    "version": 3
   },
   "file_extension": ".py",
   "mimetype": "text/x-python",
   "name": "python",
   "nbconvert_exporter": "python",
   "pygments_lexer": "ipython3",
   "version": "3.12.8"
  }
 },
 "nbformat": 4,
 "nbformat_minor": 2
}
