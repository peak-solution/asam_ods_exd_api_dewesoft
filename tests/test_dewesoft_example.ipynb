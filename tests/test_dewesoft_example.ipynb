{
 "cells": [
  {
   "cell_type": "code",
   "execution_count": 1,
   "metadata": {},
   "outputs": [],
   "source": [
    "import dwdatareader as dw\n",
    "import os\n",
    "import pathlib\n",
    "import ctypes as dwTypes\n",
    "# import _ctypes"
   ]
  },
  {
   "cell_type": "markdown",
   "metadata": {},
   "source": [
    "## Check the test file exists in the data folder\n"
   ]
  },
  {
   "cell_type": "code",
   "execution_count": 2,
   "metadata": {},
   "outputs": [
    {
     "name": "stdout",
     "output_type": "stream",
     "text": [
      "Test-File: /workspaces/asam_ods_exd_api_dewesoft/test/../data/Example_Drive01.d7d\n"
     ]
    }
   ],
   "source": [
    "example_file = pathlib.Path.absolute(pathlib.Path(r\"../data/Example_Drive01.d7d\"))\n",
    "if  not os.path.exists(example_file):\n",
    "    raise ValueError(\" Test-File does not exist: \" + str(example_file))\n",
    "else: \n",
    "    print(\"Test-File: \" + str(example_file))"
   ]
  },
  {
   "cell_type": "code",
   "execution_count": 3,
   "metadata": {},
   "outputs": [],
   "source": [
    "f = dw.open(str(example_file))"
   ]
  },
  {
   "cell_type": "markdown",
   "metadata": {},
   "source": [
    "## Measurement information from file"
   ]
  },
  {
   "cell_type": "code",
   "execution_count": 4,
   "metadata": {},
   "outputs": [
    {
     "name": "stdout",
     "output_type": "stream",
     "text": [
      "Start storing time:  2003-10-09 21:27:46.812004+00:00\n",
      "Duration:            95.8 sec\n",
      "Dataset sample rate: 100.0 Hz\n"
     ]
    }
   ],
   "source": [
    "import datetime\n",
    "\n",
    "\n",
    "dwFileInfo = f.info\n",
    "print('Start storing time:  ' + str(dwFileInfo.start_store_time))\n",
    "# print(dwFileInfo.start_store_time.strftime(\"%Y%m%d%H%M%S%f\"))\n",
    "\n",
    "print('Duration:            ' + str(dwFileInfo.duration) + ' sec')\n",
    "print('Dataset sample rate: ' + str(dwFileInfo.sample_rate) + ' Hz')"
   ]
  },
  {
   "cell_type": "code",
   "execution_count": 5,
   "metadata": {},
   "outputs": [
    {
     "name": "stdout",
     "output_type": "stream",
     "text": [
      "Number of Channels: 20\n"
     ]
    }
   ],
   "source": [
    "number_of_channels=len(f.channels)\n",
    "if number_of_channels != 20:\n",
    "  print(\"ERROR: Number of channels not equal 20!\")\n",
    "else:\n",
    "  print (\"Number of Channels: \" + str(number_of_channels))"
   ]
  },
  {
   "cell_type": "markdown",
   "metadata": {},
   "source": [
    "### Check the channels of the test file"
   ]
  },
  {
   "cell_type": "code",
   "execution_count": 6,
   "metadata": {},
   "outputs": [
    {
     "name": "stdout",
     "output_type": "stream",
     "text": [
      "-----------------------------\n",
      "Channel Name        : GPSvel\n",
      "   ChannelLongName  : GPSvel\n",
      "   ChannelUnit      : kph\n",
      "   Description      : v\n",
      "   ChannelIndex     : AI;4\n",
      "   NumberOfSamples  : 9580\n",
      "   ChannelType      : 0\n",
      "                      ==>: sync channel\n",
      "   ArrayInfo        : []\n",
      "   Fields           : [('index', <class 'ctypes.c_int'>), ('_name', <class 'dwdatareader.c_char_Array_100'>), ('_unit', <class 'dwdatareader.c_char_Array_20'>), ('_description', <class 'dwdatareader.c_char_Array_200'>), ('color', <class 'ctypes.c_uint'>), ('array_size', <class 'ctypes.c_int'>), ('data_type', <class 'ctypes.c_int'>)]\n",
      "   ChannelDataFrame : <bound method DWChannel.dataframe of <dwdatareader.DWChannel object at 0x7f7d043023d0>>\n",
      "-----------------------------\n",
      "Channel Name        : Math 0\n",
      "   ChannelLongName  : Math 0\n",
      "   ChannelUnit      : \n",
      "   Description      : \n",
      "   ChannelIndex     : MathOld;0\n",
      "   NumberOfSamples  : 9580\n",
      "   ChannelType      : 0\n",
      "                      ==>: sync channel\n",
      "   ArrayInfo        : []\n",
      "   Fields           : [('index', <class 'ctypes.c_int'>), ('_name', <class 'dwdatareader.c_char_Array_100'>), ('_unit', <class 'dwdatareader.c_char_Array_20'>), ('_description', <class 'dwdatareader.c_char_Array_200'>), ('color', <class 'ctypes.c_uint'>), ('array_size', <class 'ctypes.c_int'>), ('data_type', <class 'ctypes.c_int'>)]\n",
      "   ChannelDataFrame : <bound method DWChannel.dataframe of <dwdatareader.DWChannel object at 0x7f7d043000d0>>\n",
      "-----------------------------\n",
      "Channel Name        : STWH_ANGLE\n",
      "   ChannelLongName  : STWH_ANGLE\n",
      "   ChannelUnit      : deg.\n",
      "   Description      : \n",
      "   ChannelIndex     : CAN;0;194;16XU\n",
      "   NumberOfSamples  : 9557\n",
      "   ChannelType      : 1\n",
      "                      ==>: async channel\n",
      "   ArrayInfo        : []\n",
      "   Fields           : [('index', <class 'ctypes.c_int'>), ('_name', <class 'dwdatareader.c_char_Array_100'>), ('_unit', <class 'dwdatareader.c_char_Array_20'>), ('_description', <class 'dwdatareader.c_char_Array_200'>), ('color', <class 'ctypes.c_uint'>), ('array_size', <class 'ctypes.c_int'>), ('data_type', <class 'ctypes.c_int'>)]\n",
      "   ChannelDataFrame : <bound method DWChannel.dataframe of <dwdatareader.DWChannel object at 0x7f7d04302fd0>>\n",
      "-----------------------------\n",
      "Channel Name        : STWH_SIGN\n",
      "   ChannelLongName  : STWH_SIGN\n",
      "   ChannelUnit      : \n",
      "   Description      : \n",
      "   ChannelIndex     : CAN;0;194;15XU\n",
      "   NumberOfSamples  : 9557\n",
      "   ChannelType      : 1\n",
      "                      ==>: async channel\n",
      "   ArrayInfo        : []\n",
      "   Fields           : [('index', <class 'ctypes.c_int'>), ('_name', <class 'dwdatareader.c_char_Array_100'>), ('_unit', <class 'dwdatareader.c_char_Array_20'>), ('_description', <class 'dwdatareader.c_char_Array_200'>), ('color', <class 'ctypes.c_uint'>), ('array_size', <class 'ctypes.c_int'>), ('data_type', <class 'ctypes.c_int'>)]\n",
      "   ChannelDataFrame : <bound method DWChannel.dataframe of <dwdatareader.DWChannel object at 0x7f7d04303150>>\n",
      "-----------------------------\n",
      "Channel Name        : V_SPEED2\n",
      "   ChannelLongName  : V_SPEED2\n",
      "   ChannelUnit      : km/h\n",
      "   Description      : \n",
      "   ChannelIndex     : CAN;0;416;12XU\n",
      "   NumberOfSamples  : 4791\n",
      "   ChannelType      : 1\n",
      "                      ==>: async channel\n",
      "   ArrayInfo        : []\n",
      "   Fields           : [('index', <class 'ctypes.c_int'>), ('_name', <class 'dwdatareader.c_char_Array_100'>), ('_unit', <class 'dwdatareader.c_char_Array_20'>), ('_description', <class 'dwdatareader.c_char_Array_200'>), ('color', <class 'ctypes.c_uint'>), ('array_size', <class 'ctypes.c_int'>), ('data_type', <class 'ctypes.c_int'>)]\n",
      "   ChannelDataFrame : <bound method DWChannel.dataframe of <dwdatareader.DWChannel object at 0x7f7d04302fd0>>\n",
      "-----------------------------\n",
      "Channel Name        : ENG_RPM\n",
      "   ChannelLongName  : ENG_RPM\n",
      "   ChannelUnit      : rpm\n",
      "   Description      : \n",
      "   ChannelIndex     : CAN;0;640;20XU\n",
      "   NumberOfSamples  : 4791\n",
      "   ChannelType      : 1\n",
      "                      ==>: async channel\n",
      "   ArrayInfo        : []\n",
      "   Fields           : [('index', <class 'ctypes.c_int'>), ('_name', <class 'dwdatareader.c_char_Array_100'>), ('_unit', <class 'dwdatareader.c_char_Array_20'>), ('_description', <class 'dwdatareader.c_char_Array_200'>), ('color', <class 'ctypes.c_uint'>), ('array_size', <class 'ctypes.c_int'>), ('data_type', <class 'ctypes.c_int'>)]\n",
      "   ChannelDataFrame : <bound method DWChannel.dataframe of <dwdatareader.DWChannel object at 0x7f7d04303250>>\n",
      "-----------------------------\n",
      "Channel Name        : V_SPEED\n",
      "   ChannelLongName  : V_SPEED\n",
      "   ChannelUnit      : km/h\n",
      "   Description      : \n",
      "   ChannelIndex     : CAN;0;648;17XU\n",
      "   NumberOfSamples  : 4791\n",
      "   ChannelType      : 1\n",
      "                      ==>: async channel\n",
      "   ArrayInfo        : []\n",
      "   Fields           : [('index', <class 'ctypes.c_int'>), ('_name', <class 'dwdatareader.c_char_Array_100'>), ('_unit', <class 'dwdatareader.c_char_Array_20'>), ('_description', <class 'dwdatareader.c_char_Array_200'>), ('color', <class 'ctypes.c_uint'>), ('array_size', <class 'ctypes.c_int'>), ('data_type', <class 'ctypes.c_int'>)]\n",
      "   ChannelDataFrame : <bound method DWChannel.dataframe of <dwdatareader.DWChannel object at 0x7f7d04302fd0>>\n",
      "-----------------------------\n",
      "Channel Name        : GAS_PEDAL\n",
      "   ChannelLongName  : GAS_PEDAL\n",
      "   ChannelUnit      : %\n",
      "   Description      : \n",
      "   ChannelIndex     : CAN;0;896;4ÐXU\n",
      "   NumberOfSamples  : 4791\n",
      "   ChannelType      : 1\n",
      "                      ==>: async channel\n",
      "   ArrayInfo        : []\n",
      "   Fields           : [('index', <class 'ctypes.c_int'>), ('_name', <class 'dwdatareader.c_char_Array_100'>), ('_unit', <class 'dwdatareader.c_char_Array_20'>), ('_description', <class 'dwdatareader.c_char_Array_200'>), ('color', <class 'ctypes.c_uint'>), ('array_size', <class 'ctypes.c_int'>), ('data_type', <class 'ctypes.c_int'>)]\n",
      "   ChannelDataFrame : <bound method DWChannel.dataframe of <dwdatareader.DWChannel object at 0x7f7d04303250>>\n",
      "-----------------------------\n",
      "Channel Name        : TEMP_OUTSIDE\n",
      "   ChannelLongName  : TEMP_OUTSIDE\n",
      "   ChannelUnit      : deg. C\n",
      "   Description      : \n",
      "   ChannelIndex     : CAN;0;1056;3XU\n",
      "   NumberOfSamples  : 479\n",
      "   ChannelType      : 1\n",
      "                      ==>: async channel\n",
      "   ArrayInfo        : []\n",
      "   Fields           : [('index', <class 'ctypes.c_int'>), ('_name', <class 'dwdatareader.c_char_Array_100'>), ('_unit', <class 'dwdatareader.c_char_Array_20'>), ('_description', <class 'dwdatareader.c_char_Array_200'>), ('color', <class 'ctypes.c_uint'>), ('array_size', <class 'ctypes.c_int'>), ('data_type', <class 'ctypes.c_int'>)]\n",
      "   ChannelDataFrame : <bound method DWChannel.dataframe of <dwdatareader.DWChannel object at 0x7f7d04302fd0>>\n",
      "-----------------------------\n",
      "Channel Name        : WSPEED_FL\n",
      "   ChannelLongName  : WSPEED_FL\n",
      "   ChannelUnit      : km/h\n",
      "   Description      : \n",
      "   ChannelIndex     : CAN;0;1184;8XU\n",
      "   NumberOfSamples  : 4791\n",
      "   ChannelType      : 1\n",
      "                      ==>: async channel\n",
      "   ArrayInfo        : []\n",
      "   Fields           : [('index', <class 'ctypes.c_int'>), ('_name', <class 'dwdatareader.c_char_Array_100'>), ('_unit', <class 'dwdatareader.c_char_Array_20'>), ('_description', <class 'dwdatareader.c_char_Array_200'>), ('color', <class 'ctypes.c_uint'>), ('array_size', <class 'ctypes.c_int'>), ('data_type', <class 'ctypes.c_int'>)]\n",
      "   ChannelDataFrame : <bound method DWChannel.dataframe of <dwdatareader.DWChannel object at 0x7f7d04303250>>\n",
      "-----------------------------\n",
      "Channel Name        : WSPEED_FR\n",
      "   ChannelLongName  : WSPEED_FR\n",
      "   ChannelUnit      : km/h\n",
      "   Description      : \n",
      "   ChannelIndex     : CAN;0;1184;7XU\n",
      "   NumberOfSamples  : 4791\n",
      "   ChannelType      : 1\n",
      "                      ==>: async channel\n",
      "   ArrayInfo        : []\n",
      "   Fields           : [('index', <class 'ctypes.c_int'>), ('_name', <class 'dwdatareader.c_char_Array_100'>), ('_unit', <class 'dwdatareader.c_char_Array_20'>), ('_description', <class 'dwdatareader.c_char_Array_200'>), ('color', <class 'ctypes.c_uint'>), ('array_size', <class 'ctypes.c_int'>), ('data_type', <class 'ctypes.c_int'>)]\n",
      "   ChannelDataFrame : <bound method DWChannel.dataframe of <dwdatareader.DWChannel object at 0x7f7d04302fd0>>\n",
      "-----------------------------\n",
      "Channel Name        : WSPEED_RL\n",
      "   ChannelLongName  : WSPEED_RL\n",
      "   ChannelUnit      : km/h\n",
      "   Description      : \n",
      "   ChannelIndex     : CAN;0;1184;6XU\n",
      "   NumberOfSamples  : 4791\n",
      "   ChannelType      : 1\n",
      "                      ==>: async channel\n",
      "   ArrayInfo        : []\n",
      "   Fields           : [('index', <class 'ctypes.c_int'>), ('_name', <class 'dwdatareader.c_char_Array_100'>), ('_unit', <class 'dwdatareader.c_char_Array_20'>), ('_description', <class 'dwdatareader.c_char_Array_200'>), ('color', <class 'ctypes.c_uint'>), ('array_size', <class 'ctypes.c_int'>), ('data_type', <class 'ctypes.c_int'>)]\n",
      "   ChannelDataFrame : <bound method DWChannel.dataframe of <dwdatareader.DWChannel object at 0x7f7d04303250>>\n",
      "-----------------------------\n",
      "Channel Name        : WSPEED_RR\n",
      "   ChannelLongName  : WSPEED_RR\n",
      "   ChannelUnit      : km/h\n",
      "   Description      : \n",
      "   ChannelIndex     : CAN;0;1184;5XU\n",
      "   NumberOfSamples  : 4791\n",
      "   ChannelType      : 1\n",
      "                      ==>: async channel\n",
      "   ArrayInfo        : []\n",
      "   Fields           : [('index', <class 'ctypes.c_int'>), ('_name', <class 'dwdatareader.c_char_Array_100'>), ('_unit', <class 'dwdatareader.c_char_Array_20'>), ('_description', <class 'dwdatareader.c_char_Array_200'>), ('color', <class 'ctypes.c_uint'>), ('array_size', <class 'ctypes.c_int'>), ('data_type', <class 'ctypes.c_int'>)]\n",
      "   ChannelDataFrame : <bound method DWChannel.dataframe of <dwdatareader.DWChannel object at 0x7f7d04302fd0>>\n",
      "-----------------------------\n",
      "Channel Name        : ACC\n",
      "   ChannelLongName  : ACC\n",
      "   ChannelUnit      : g\n",
      "   Description      : \n",
      "   ChannelIndex     : CAN;0;1440;9XU\n",
      "   NumberOfSamples  : 4791\n",
      "   ChannelType      : 1\n",
      "                      ==>: async channel\n",
      "   ArrayInfo        : []\n",
      "   Fields           : [('index', <class 'ctypes.c_int'>), ('_name', <class 'dwdatareader.c_char_Array_100'>), ('_unit', <class 'dwdatareader.c_char_Array_20'>), ('_description', <class 'dwdatareader.c_char_Array_200'>), ('color', <class 'ctypes.c_uint'>), ('array_size', <class 'ctypes.c_int'>), ('data_type', <class 'ctypes.c_int'>)]\n",
      "   ChannelDataFrame : <bound method DWChannel.dataframe of <dwdatareader.DWChannel object at 0x7f7d04303250>>\n",
      "-----------------------------\n",
      "Channel Name        : X absolute\n",
      "   ChannelLongName  : X absolute\n",
      "   ChannelUnit      : \n",
      "   Description      : \n",
      "   ChannelIndex     : GPS;X\n",
      "   NumberOfSamples  : 191\n",
      "   ChannelType      : 1\n",
      "                      ==>: async channel\n",
      "   ArrayInfo        : []\n",
      "   Fields           : [('index', <class 'ctypes.c_int'>), ('_name', <class 'dwdatareader.c_char_Array_100'>), ('_unit', <class 'dwdatareader.c_char_Array_20'>), ('_description', <class 'dwdatareader.c_char_Array_200'>), ('color', <class 'ctypes.c_uint'>), ('array_size', <class 'ctypes.c_int'>), ('data_type', <class 'ctypes.c_int'>)]\n",
      "   ChannelDataFrame : <bound method DWChannel.dataframe of <dwdatareader.DWChannel object at 0x7f7d04302fd0>>\n",
      "-----------------------------\n",
      "Channel Name        : Y absolute\n",
      "   ChannelLongName  : Y absolute\n",
      "   ChannelUnit      : \n",
      "   Description      : \n",
      "   ChannelIndex     : GPS;Y\n",
      "   NumberOfSamples  : 191\n",
      "   ChannelType      : 1\n",
      "                      ==>: async channel\n",
      "   ArrayInfo        : []\n",
      "   Fields           : [('index', <class 'ctypes.c_int'>), ('_name', <class 'dwdatareader.c_char_Array_100'>), ('_unit', <class 'dwdatareader.c_char_Array_20'>), ('_description', <class 'dwdatareader.c_char_Array_200'>), ('color', <class 'ctypes.c_uint'>), ('array_size', <class 'ctypes.c_int'>), ('data_type', <class 'ctypes.c_int'>)]\n",
      "   ChannelDataFrame : <bound method DWChannel.dataframe of <dwdatareader.DWChannel object at 0x7f7d043034d0>>\n",
      "-----------------------------\n",
      "Channel Name        : Velocity\n",
      "   ChannelLongName  : Velocity\n",
      "   ChannelUnit      : \n",
      "   Description      : \n",
      "   ChannelIndex     : GPS;Vel\n",
      "   NumberOfSamples  : 1838\n",
      "   ChannelType      : 1\n",
      "                      ==>: async channel\n",
      "   ArrayInfo        : []\n",
      "   Fields           : [('index', <class 'ctypes.c_int'>), ('_name', <class 'dwdatareader.c_char_Array_100'>), ('_unit', <class 'dwdatareader.c_char_Array_20'>), ('_description', <class 'dwdatareader.c_char_Array_200'>), ('color', <class 'ctypes.c_uint'>), ('array_size', <class 'ctypes.c_int'>), ('data_type', <class 'ctypes.c_int'>)]\n",
      "   ChannelDataFrame : <bound method DWChannel.dataframe of <dwdatareader.DWChannel object at 0x7f7d04302fd0>>\n",
      "-----------------------------\n",
      "Channel Name        : Direction\n",
      "   ChannelLongName  : Direction\n",
      "   ChannelUnit      : \n",
      "   Description      : \n",
      "   ChannelIndex     : GPS;Dir\n",
      "   NumberOfSamples  : 1838\n",
      "   ChannelType      : 1\n",
      "                      ==>: async channel\n",
      "   ArrayInfo        : []\n",
      "   Fields           : [('index', <class 'ctypes.c_int'>), ('_name', <class 'dwdatareader.c_char_Array_100'>), ('_unit', <class 'dwdatareader.c_char_Array_20'>), ('_description', <class 'dwdatareader.c_char_Array_200'>), ('color', <class 'ctypes.c_uint'>), ('array_size', <class 'ctypes.c_int'>), ('data_type', <class 'ctypes.c_int'>)]\n",
      "   ChannelDataFrame : <bound method DWChannel.dataframe of <dwdatareader.DWChannel object at 0x7f7d043034d0>>\n",
      "-----------------------------\n",
      "Channel Name        : Used sattelites\n",
      "   ChannelLongName  : Used sattelites\n",
      "   ChannelUnit      : \n",
      "   Description      : \n",
      "   ChannelIndex     : GPS;Sat used\n",
      "   NumberOfSamples  : 191\n",
      "   ChannelType      : 1\n",
      "                      ==>: async channel\n",
      "   ArrayInfo        : []\n",
      "   Fields           : [('index', <class 'ctypes.c_int'>), ('_name', <class 'dwdatareader.c_char_Array_100'>), ('_unit', <class 'dwdatareader.c_char_Array_20'>), ('_description', <class 'dwdatareader.c_char_Array_200'>), ('color', <class 'ctypes.c_uint'>), ('array_size', <class 'ctypes.c_int'>), ('data_type', <class 'ctypes.c_int'>)]\n",
      "   ChannelDataFrame : <bound method DWChannel.dataframe of <dwdatareader.DWChannel object at 0x7f7d04302fd0>>\n",
      "-----------------------------\n",
      "Channel Name        : CNT 0\n",
      "   ChannelLongName  : CNT 0\n",
      "   ChannelUnit      : m\n",
      "   Description      : \n",
      "   ChannelIndex     : CNT;0;0\n",
      "   NumberOfSamples  : 9580\n",
      "   ChannelType      : 0\n",
      "                      ==>: sync channel\n",
      "   ArrayInfo        : []\n",
      "   Fields           : [('index', <class 'ctypes.c_int'>), ('_name', <class 'dwdatareader.c_char_Array_100'>), ('_unit', <class 'dwdatareader.c_char_Array_20'>), ('_description', <class 'dwdatareader.c_char_Array_200'>), ('color', <class 'ctypes.c_uint'>), ('array_size', <class 'ctypes.c_int'>), ('data_type', <class 'ctypes.c_int'>)]\n",
      "   ChannelDataFrame : <bound method DWChannel.dataframe of <dwdatareader.DWChannel object at 0x7f7d043034d0>>\n"
     ]
    }
   ],
   "source": [
    "DW_CH_TYPE_SYNC = 0\t\t# ChTypeEnum: sync channel\n",
    "DW_CH_TYPE_ASYNC = 1\t# ChTypeEnum: async channel\n",
    "DW_CH_TYPE_SV = 2\t\t# ChTypeEnum: single value channel\n",
    "\n",
    "ch: dw.DWChannel\n",
    "for ch in f.channels:\n",
    "    print(\"-----------------------------\")\n",
    "    print(\"Channel Name        : \" + ch.name)\n",
    "    print(\"   ChannelLongName  : \" + str(ch.long_name))\n",
    "    print(\"   ChannelUnit      : \" + str(ch.unit))\n",
    "    print(\"   Description      : \" + str(ch.description))\n",
    "    print(\"   ChannelIndex     : \" + str(ch.channel_index))\n",
    "    print(\"   NumberOfSamples  : \" + str(ch.number_of_samples))\n",
    "    print(\"   ChannelType      : \" + str(ch.channel_type))\n",
    "    if ch.channel_type == DW_CH_TYPE_SYNC:\n",
    "        print(\"                      ==>: sync channel\")\n",
    "    elif ch.channel_type == DW_CH_TYPE_ASYNC:\n",
    "        print(\"                      ==>: async channel\")\n",
    "    elif ch.channel_type == DW_CH_TYPE_SV:\n",
    "        print(\"                      ==>: single value channel\")\n",
    "    else:\n",
    "        print(\"                      ==>: unknown channel type\")\n",
    "\n",
    "    # print(\"     Factor         : \" + str(ch.channel_scale))\n",
    "    # print(\"     Offset         : \" + str(ch.channel_offset))\n",
    "    print(\"   ArrayInfo        : \" + str(ch.arrayInfo))\n",
    "    print(\"   Fields           : \" + str(ch._fields_))\n",
    "    print(\"   ChannelDataFrame : \" + str(ch.dataframe))\n",
    "\n",
    "    # get channel factor/offset\n",
    "    # chScale = 1\n",
    "    # chOffset = 0\n",
    "    # print(dw.DWChannelProps[ch.channel_index].OFFSET)\n",
    "    # print(dw.DWChannelProps[ch.channel_index].SCALE)"
   ]
  },
  {
   "cell_type": "code",
   "execution_count": 7,
   "metadata": {},
   "outputs": [
    {
     "name": "stdout",
     "output_type": "stream",
     "text": [
      "GPSvel (kph) v\n",
      "Name: GPSvel\n",
      "unit: kph\n"
     ]
    },
    {
     "name": "stdout",
     "output_type": "stream",
     "text": [
      "float64\n",
      "GPSvel\n",
      "9580\n",
      "(9580,)\n",
      "First value: 89.2578125\n",
      "Last value:  -0.091552734375\n"
     ]
    }
   ],
   "source": [
    "print (f['GPSvel'])  \n",
    "print (\"Name: \" + f['GPSvel'].name)  \n",
    "print (\"unit: \" + f['GPSvel'].unit)  \n",
    "ch1 = f['GPSvel'].series()\n",
    "print(ch1.dtype)\n",
    "print(ch1.name)\n",
    "print(len(ch1))\n",
    "print(ch1.shape)\n",
    "\n",
    "firstVal = ch1.values[0]\n",
    "lastVal = ch1.values[int(len(ch1)-1)]\n",
    "print(\"First value: \" + str(firstVal)) # der erste Wert\n",
    "print(\"Last value:  \" + str(lastVal))  # der letzte Wert\n",
    "# print(ch1.values)"
   ]
  },
  {
   "cell_type": "code",
   "execution_count": 8,
   "metadata": {},
   "outputs": [
    {
     "name": "stdout",
     "output_type": "stream",
     "text": [
      "          GPSvel\n",
      "0.00   89.257812\n",
      "0.01   89.263916\n",
      "0.02   89.270020\n",
      "0.03   89.282227\n",
      "0.04   89.263916\n",
      "...          ...\n",
      "95.75  -0.079346\n",
      "95.76  -0.079346\n",
      "95.77  -0.073242\n",
      "95.78  -0.085449\n",
      "95.79  -0.091553\n",
      "\n",
      "[9580 rows x 1 columns]\n"
     ]
    }
   ],
   "source": [
    "dataframe1=f['GPSvel'].dataframe()\n",
    "print(dataframe1)"
   ]
  },
  {
   "cell_type": "code",
   "execution_count": 9,
   "metadata": {},
   "outputs": [
    {
     "name": "stdout",
     "output_type": "stream",
     "text": [
      "Index(['GPSvel'], dtype='object')\n"
     ]
    }
   ],
   "source": [
    "\n",
    "print(dataframe1.columns)\n"
   ]
  },
  {
   "cell_type": "code",
   "execution_count": 10,
   "metadata": {},
   "outputs": [
    {
     "name": "stdout",
     "output_type": "stream",
     "text": [
      "            0.00       0.01      0.02       0.03       0.04       0.05   \\\n",
      "GPSvel  89.257812  89.263916  89.27002  89.282227  89.263916  89.276123   \n",
      "\n",
      "            0.06       0.07      0.08       0.09   ...     95.70     95.71  \\\n",
      "GPSvel  89.263916  89.257812  89.27002  89.251709  ... -0.067139 -0.091553   \n",
      "\n",
      "           95.72     95.73     95.74     95.75     95.76     95.77     95.78  \\\n",
      "GPSvel -0.097656 -0.085449 -0.085449 -0.079346 -0.079346 -0.073242 -0.085449   \n",
      "\n",
      "           95.79  \n",
      "GPSvel -0.091553  \n",
      "\n",
      "[1 rows x 9580 columns]\n"
     ]
    }
   ],
   "source": [
    "print (dataframe1.T)\n"
   ]
  },
  {
   "cell_type": "code",
   "execution_count": 11,
   "metadata": {},
   "outputs": [
    {
     "name": "stdout",
     "output_type": "stream",
     "text": [
      "Index([  0.0,  0.01,  0.02,  0.03,  0.04,  0.05,  0.06,  0.07,  0.08,  0.09,\n",
      "       ...\n",
      "        95.7, 95.71, 95.72, 95.73, 95.74, 95.75, 95.76, 95.77, 95.78, 95.79],\n",
      "      dtype='float64', length=9580)\n"
     ]
    }
   ],
   "source": [
    "print(dataframe1.index) # das ist der Indexkanal, hier Zeit"
   ]
  },
  {
   "cell_type": "code",
   "execution_count": 12,
   "metadata": {},
   "outputs": [
    {
     "name": "stdout",
     "output_type": "stream",
     "text": [
      "float64\n"
     ]
    }
   ],
   "source": [
    "print(dataframe1.index.dtype)"
   ]
  },
  {
   "cell_type": "code",
   "execution_count": 13,
   "metadata": {},
   "outputs": [
    {
     "name": "stdout",
     "output_type": "stream",
     "text": [
      "Channel length check:   OK\n"
     ]
    }
   ],
   "source": [
    "if (len(dataframe1.index) != 9580):\n",
    "   print(\"ERROR: Count of channel #1 not equal 9580!\")\n",
    "else: print(\"Channel length check:   OK\")"
   ]
  },
  {
   "cell_type": "code",
   "execution_count": 14,
   "metadata": {},
   "outputs": [
    {
     "name": "stdout",
     "output_type": "stream",
     "text": [
      "First value check:   OK\n"
     ]
    }
   ],
   "source": [
    "# Check First value: \n",
    "if (89.2578125 != dataframe1.values[0]):\n",
    "   print(\"ERROR: Content of first channel value is wrong!\")  \n",
    "else:\n",
    "   print(\"First value check:   OK\")\n",
    "# print(dataframe1.values[0])\n",
    "# print(dataframe1.values)"
   ]
  },
  {
   "cell_type": "code",
   "execution_count": 15,
   "metadata": {},
   "outputs": [
    {
     "name": "stdout",
     "output_type": "stream",
     "text": [
      "last value check:   OK\n"
     ]
    }
   ],
   "source": [
    "# check Last value\n",
    "if (-0.091552734375 != dataframe1.values[len(dataframe1.values)-1]):\n",
    "   print(\"ERROR: Content of last channel value is wrong!\")\n",
    "else: print(\"last value check:   OK\")\n",
    "# print(dataframe1.values[len(dataframe1.values)-1])"
   ]
  },
  {
   "cell_type": "code",
   "execution_count": 16,
   "metadata": {},
   "outputs": [
    {
     "name": "stdout",
     "output_type": "stream",
     "text": [
      "float64\n"
     ]
    }
   ],
   "source": [
    "print(dataframe1.values.dtype)"
   ]
  },
  {
   "cell_type": "code",
   "execution_count": 17,
   "metadata": {},
   "outputs": [
    {
     "name": "stdout",
     "output_type": "stream",
     "text": [
      "<bound method DWFile.dataframe of <dwdatareader.DWFile object at 0x7f7d04306d20>>\n"
     ]
    }
   ],
   "source": [
    "print(f.dataframe) #Complete matrix of all channels"
   ]
  },
  {
   "cell_type": "code",
   "execution_count": 18,
   "metadata": {},
   "outputs": [
    {
     "data": {
      "text/plain": [
       "<bound method DWFile.close of <dwdatareader.DWFile object at 0x7f7d04306d20>>"
      ]
     },
     "execution_count": 18,
     "metadata": {},
     "output_type": "execute_result"
    }
   ],
   "source": [
    "f.close"
   ]
  }
 ],
 "metadata": {
  "kernelspec": {
   "display_name": "Python 3",
   "language": "python",
   "name": "python3"
  },
  "language_info": {
   "codemirror_mode": {
    "name": "ipython",
    "version": 3
   },
   "file_extension": ".py",
   "mimetype": "text/x-python",
   "name": "python",
   "nbconvert_exporter": "python",
   "pygments_lexer": "ipython3",
   "version": "3.12.8"
  }
 },
 "nbformat": 4,
 "nbformat_minor": 2
}
